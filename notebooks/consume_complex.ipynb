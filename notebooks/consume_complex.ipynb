{
 "cells": [
  {
   "cell_type": "code",
   "execution_count": 1,
   "id": "fd2689d8-00f7-4ab6-9206-01bae3fd4884",
   "metadata": {
    "tags": []
   },
   "outputs": [
    {
     "name": "stdout",
     "output_type": "stream",
     "text": [
      "Requirement already satisfied: kafka-python in /opt/conda/lib/python3.10/site-packages (2.0.2)\n"
     ]
    }
   ],
   "source": [
    "!pip install kafka-python"
   ]
  },
  {
   "cell_type": "code",
   "execution_count": 2,
   "id": "f000dba9-b2e3-4089-bbae-a536a60bf69b",
   "metadata": {
    "tags": []
   },
   "outputs": [],
   "source": [
    "from kafka import KafkaConsumer\n",
    "import json\n",
    "import uuid\n",
    "import random\n",
    "import time\n",
    "import cProfile\n",
    "import csv\n",
    "import os"
   ]
  },
  {
   "cell_type": "code",
   "execution_count": 4,
   "id": "0770d40c-0f8b-42d0-afa8-85442c3085d8",
   "metadata": {
    "tags": []
   },
   "outputs": [],
   "source": [
    "servers= ['broker1:9093', 'broker2:9094', 'broker3:9095']\n",
    "topic1 = \"products\"\n",
    "\n",
    "consumer = KafkaConsumer(\n",
    "    topic1, \n",
    "    auto_offset_reset='earliest',\n",
    "    bootstrap_servers=servers, \n",
    "    api_version=(0, 10), \n",
    "    value_deserializer = json.loads,\n",
    "    consumer_timeout_ms=1000\n",
    ")"
   ]
  },
  {
   "cell_type": "code",
   "execution_count": 5,
   "id": "1858fc36-e5ac-4c90-87ed-7f759c27a682",
   "metadata": {},
   "outputs": [],
   "source": [
    "def data_processor(consumer):\n",
    "    output = []\n",
    "    for msg in consumer:\n",
    "        product = msg.value.get(\"product\")\n",
    "        product[\"code\"] = random.randint(400, 500)\n",
    "        output.append(product)\n",
    "    return output"
   ]
  },
  {
   "cell_type": "code",
   "execution_count": 6,
   "id": "268acaf1",
   "metadata": {},
   "outputs": [],
   "source": [
    "consume_stats = [\n",
    "    [\"consumed_messages\", \"time_needed\"]\n",
    "]\n",
    "def consume(consumer, consume_stats):\n",
    "    consume = 0\n",
    "    msgs = []\n",
    "    start = time.time()\n",
    "    for msg in consumer:\n",
    "        msgs.append(msg.value.get(\"product\"))\n",
    "        consume += 1\n",
    "    end = time.time()\n",
    "    time_needed = end - start\n",
    "    consume_stats.append([consume, time_needed])\n",
    "    return consume_stats"
   ]
  },
  {
   "cell_type": "code",
   "execution_count": 7,
   "id": "c54ce36e-b47b-4803-8c80-f72e80f50d65",
   "metadata": {
    "tags": []
   },
   "outputs": [],
   "source": [
    "# changed_data = data_processor(consumer)\n",
    "# cProfile.run(\"get_changed_data(consumer)\")"
   ]
  },
  {
   "cell_type": "code",
   "execution_count": 8,
   "id": "6e9c97f0-20e7-4491-a4df-2c09d17b6cd2",
   "metadata": {
    "tags": []
   },
   "outputs": [],
   "source": [
    "# def write_json_to_file(filepath, content):\n",
    "#     with open(filepath, \"w\") as file:\n",
    "#         json.dump(content, file)"
   ]
  },
  {
   "cell_type": "code",
   "execution_count": 9,
   "id": "d2d1dcec-2e84-4bb9-a119-38cdb52b1542",
   "metadata": {
    "tags": []
   },
   "outputs": [],
   "source": [
    "# write_json_to_file(\"mc1-part1/changed_data.json\", changed_data)"
   ]
  },
  {
   "cell_type": "code",
   "execution_count": null,
   "id": "bca6d542-495f-4998-8d74-6b81fcc91602",
   "metadata": {},
   "outputs": [],
   "source": [
    "with open(\"stats.csv\", \"w\", newline=\"\") as file:\n",
    "    consumed_stats = consume(consumer, consume_stats)\n",
    "    writer = csv.writer(file)\n",
    "    writer.writerows(consumed_stats)"
   ]
  },
  {
   "cell_type": "code",
   "execution_count": null,
   "id": "9053e7c0",
   "metadata": {},
   "outputs": [],
   "source": []
  }
 ],
 "metadata": {
  "kernelspec": {
   "display_name": "Python 3 (ipykernel)",
   "language": "python",
   "name": "python3"
  },
  "language_info": {
   "codemirror_mode": {
    "name": "ipython",
    "version": 3
   },
   "file_extension": ".py",
   "mimetype": "text/x-python",
   "name": "python",
   "nbconvert_exporter": "python",
   "pygments_lexer": "ipython3",
   "version": "3.10.9"
  },
  "vscode": {
   "interpreter": {
    "hash": "076267b0e62a83e3a53940141c33d77ced3951e409a8ef4f707c367f15d2cf63"
   }
  }
 },
 "nbformat": 4,
 "nbformat_minor": 5
}
