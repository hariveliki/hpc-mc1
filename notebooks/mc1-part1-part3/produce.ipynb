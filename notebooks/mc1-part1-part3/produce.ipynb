{
 "cells": [
  {
   "cell_type": "code",
   "execution_count": null,
   "id": "fd2689d8-00f7-4ab6-9206-01bae3fd4884",
   "metadata": {
    "tags": []
   },
   "outputs": [],
   "source": [
    "!pip install kafka-python"
   ]
  },
  {
   "cell_type": "code",
   "execution_count": null,
   "id": "f000dba9-b2e3-4089-bbae-a536a60bf69b",
   "metadata": {
    "tags": []
   },
   "outputs": [],
   "source": [
    "from kafka import KafkaConsumer, KafkaProducer\n",
    "import json\n",
    "import uuid\n",
    "import random\n",
    "import time\n",
    "import cProfile\n",
    "import os\n",
    "import pstats\n",
    "from pstats import SortKey"
   ]
  },
  {
   "cell_type": "code",
   "execution_count": null,
   "id": "fa56dabd-8bed-4203-8e44-bdb8e30a2430",
   "metadata": {
    "tags": []
   },
   "outputs": [],
   "source": [
    "def connect_kafka_producer(servers):\n",
    "    _producer = None\n",
    "    try:\n",
    "        _producer = KafkaProducer(bootstrap_servers=servers, api_version=(0, 10))\n",
    "    except Exception as ex:\n",
    "        print('Exception while connecting Kafka')\n",
    "        print(str(ex))\n",
    "    finally:\n",
    "        return _producer"
   ]
  },
  {
   "cell_type": "code",
   "execution_count": null,
   "id": "a32644c8-a779-4ae7-b020-df59733def20",
   "metadata": {
    "tags": []
   },
   "outputs": [],
   "source": [
    "def publish_message(producer_instance, topic_name, key, value):\n",
    "    try:\n",
    "        key_bytes = bytes(key, encoding='utf-8')\n",
    "        value_bytes = bytes(value, encoding='utf-8')\n",
    "        producer_instance.send(topic_name, key=key_bytes, value=value_bytes)\n",
    "        producer_instance.flush()\n",
    "        print('Message published successfully.')\n",
    "    except Exception as ex:\n",
    "        print('Exception in publishing message')\n",
    "        print(str(ex))"
   ]
  },
  {
   "cell_type": "code",
   "execution_count": null,
   "id": "8547c4fc-6db6-4316-a387-35faaae12464",
   "metadata": {
    "tags": []
   },
   "outputs": [],
   "source": [
    "def produce_xy(producer, topic_name):\n",
    "    cwd = os.getcwd()\n",
    "    with open(\"mc1-part1/data.json\") as file:\n",
    "        data = json.load(file)\n",
    "    n = 0\n",
    "    while data:\n",
    "        product = data.pop()\n",
    "        message = json.dumps({\"product\": product})\n",
    "        print(\"Published items: {}\".format(n))\n",
    "        publish_message(producer, topic_name, str(uuid.uuid4()), message)\n",
    "        time.sleep(1)\n",
    "        n += 1"
   ]
  },
  {
   "cell_type": "code",
   "execution_count": null,
   "id": "0770d40c-0f8b-42d0-afa8-85442c3085d8",
   "metadata": {
    "tags": []
   },
   "outputs": [],
   "source": [
    "servers = ['broker1:9093', 'broker2:9094', 'broker3:9095']\n",
    "topic1 = \"products\"\n",
    "\n",
    "producer = connect_kafka_producer(servers)\n",
    "# cProfile.run(\"connect_kafka_producer(server1)\", \"mc1-part1/connect_kafka\")\n",
    "# p = pstats.Stats(\"mc1-part1/connect_kafka\")\n",
    "# p.sort_stats(SortKey.TIME)\n",
    "# p.print_stats()"
   ]
  },
  {
   "cell_type": "code",
   "execution_count": null,
   "id": "00fc53e6-cfb0-4dac-ae06-aed908d33b78",
   "metadata": {
    "tags": []
   },
   "outputs": [],
   "source": [
    "cProfile.run(\"produce_xy(producer, topic1)\", \"mc1-part1/produce_stats\")"
   ]
  },
  {
   "cell_type": "code",
   "execution_count": null,
   "id": "bca6d542-495f-4998-8d74-6b81fcc91602",
   "metadata": {},
   "outputs": [],
   "source": [
    "p = pstats.Stats(\"mc1-part1/produce_stats\")\n",
    "p.sort_stats(SortKey.TIME)\n",
    "p.print_stats(10)"
   ]
  },
  {
   "cell_type": "code",
   "execution_count": null,
   "id": "968dcd90",
   "metadata": {},
   "outputs": [],
   "source": []
  }
 ],
 "metadata": {
  "kernelspec": {
   "display_name": "Python 3 (ipykernel)",
   "language": "python",
   "name": "python3"
  },
  "vscode": {
   "interpreter": {
    "hash": "076267b0e62a83e3a53940141c33d77ced3951e409a8ef4f707c367f15d2cf63"
   }
  }
 },
 "nbformat": 4,
 "nbformat_minor": 5
}
