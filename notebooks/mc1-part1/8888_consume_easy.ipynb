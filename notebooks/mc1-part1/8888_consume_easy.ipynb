{
 "cells": [
  {
   "cell_type": "code",
   "execution_count": 1,
   "id": "fd2689d8-00f7-4ab6-9206-01bae3fd4884",
   "metadata": {
    "tags": []
   },
   "outputs": [
    {
     "name": "stdout",
     "output_type": "stream",
     "text": [
      "Requirement already satisfied: kafka-python in /opt/conda/lib/python3.10/site-packages (2.0.2)\n"
     ]
    }
   ],
   "source": [
    "!pip install kafka-python"
   ]
  },
  {
   "cell_type": "code",
   "execution_count": 2,
   "id": "f000dba9-b2e3-4089-bbae-a536a60bf69b",
   "metadata": {
    "tags": []
   },
   "outputs": [],
   "source": [
    "from kafka import KafkaConsumer, KafkaProducer\n",
    "import json\n",
    "import uuid\n",
    "import random\n",
    "import time"
   ]
  },
  {
   "cell_type": "code",
   "execution_count": 3,
   "id": "fa56dabd-8bed-4203-8e44-bdb8e30a2430",
   "metadata": {
    "tags": []
   },
   "outputs": [],
   "source": [
    "def connect_kafka_producer(servers):\n",
    "    _producer = None\n",
    "    try:\n",
    "        _producer = KafkaProducer(bootstrap_servers=servers, api_version=(0, 10))\n",
    "    except Exception as ex:\n",
    "        print('Exception while connecting Kafka')\n",
    "        print(str(ex))\n",
    "    finally:\n",
    "        return _producer"
   ]
  },
  {
   "cell_type": "code",
   "execution_count": 4,
   "id": "a32644c8-a779-4ae7-b020-df59733def20",
   "metadata": {
    "tags": []
   },
   "outputs": [],
   "source": [
    "def publish_message(producer_instance, topic_name, key, value):\n",
    "    try:\n",
    "        key_bytes = bytes(key, encoding='utf-8')\n",
    "        value_bytes = bytes(value, encoding='utf-8')\n",
    "        producer_instance.send(topic_name, key=key_bytes, value=value_bytes)\n",
    "        producer_instance.flush()\n",
    "        print('Message published successfully.')\n",
    "    except Exception as ex:\n",
    "        print('Exception in publishing message')\n",
    "        print(str(ex))"
   ]
  },
  {
   "cell_type": "code",
   "execution_count": 5,
   "id": "8547c4fc-6db6-4316-a387-35faaae12464",
   "metadata": {
    "tags": []
   },
   "outputs": [],
   "source": [
    "def produce_xy(producer, topic_name):\n",
    "    while True:\n",
    "        name = f'Mark {random.randint(0,22)}'\n",
    "        message = json.dumps({\"name\": name})\n",
    "        print(name)\n",
    "        publish_message(producer, topic_name, str(uuid.uuid4()), message)\n",
    "        time.sleep(1)"
   ]
  },
  {
   "cell_type": "code",
   "execution_count": 6,
   "id": "96f34198-ab1c-42a5-bd8b-8a938c1d2760",
   "metadata": {
    "tags": []
   },
   "outputs": [],
   "source": [
    "def consume_xy(consumer, topic_name):\n",
    "    for msg in consumer:\n",
    "        print(msg.key.decode(\"utf-8\"), msg.value)"
   ]
  },
  {
   "cell_type": "code",
   "execution_count": 7,
   "id": "0770d40c-0f8b-42d0-afa8-85442c3085d8",
   "metadata": {
    "tags": []
   },
   "outputs": [],
   "source": [
    "server1 = 'broker1:9093'\n",
    "topic1 = \"names\"\n",
    "\n",
    "consumer = KafkaConsumer(\n",
    "    topic1, \n",
    "    auto_offset_reset='earliest',\n",
    "    bootstrap_servers=[server1], \n",
    "    api_version=(0, 10), \n",
    "    value_deserializer = json.loads,\n",
    "    consumer_timeout_ms=1000\n",
    ")"
   ]
  },
  {
   "cell_type": "code",
   "execution_count": 8,
   "id": "1858fc36-e5ac-4c90-87ed-7f759c27a682",
   "metadata": {},
   "outputs": [],
   "source": [
    "def get_changed_data(consumer, topic):\n",
    "    output = []\n",
    "    for msg in consumer:\n",
    "        msg.value[topic] = random.randint(400, 500)\n",
    "        output.append(msg.value)\n",
    "    return output"
   ]
  },
  {
   "cell_type": "code",
   "execution_count": 9,
   "id": "c54ce36e-b47b-4803-8c80-f72e80f50d65",
   "metadata": {
    "tags": []
   },
   "outputs": [],
   "source": [
    "changed_data = get_changed_data(consumer, topic1)"
   ]
  },
  {
   "cell_type": "code",
   "execution_count": 10,
   "id": "6e9c97f0-20e7-4491-a4df-2c09d17b6cd2",
   "metadata": {
    "tags": []
   },
   "outputs": [],
   "source": [
    "def write_json_to_file(filepath, content):\n",
    "    with open(filepath, \"w\") as file:\n",
    "        json.dump(content, file)"
   ]
  },
  {
   "cell_type": "code",
   "execution_count": 11,
   "id": "d2d1dcec-2e84-4bb9-a119-38cdb52b1542",
   "metadata": {
    "tags": []
   },
   "outputs": [],
   "source": [
    "write_json_to_file(\"changed_data.json\", changed_data)"
   ]
  },
  {
   "cell_type": "code",
   "execution_count": null,
   "id": "bca6d542-495f-4998-8d74-6b81fcc91602",
   "metadata": {},
   "outputs": [],
   "source": []
  }
 ],
 "metadata": {
  "kernelspec": {
   "display_name": "Python 3 (ipykernel)",
   "language": "python",
   "name": "python3"
  },
  "language_info": {
   "codemirror_mode": {
    "name": "ipython",
    "version": 3
   },
   "file_extension": ".py",
   "mimetype": "text/x-python",
   "name": "python",
   "nbconvert_exporter": "python",
   "pygments_lexer": "ipython3",
   "version": "3.10.9"
  },
  "vscode": {
   "interpreter": {
    "hash": "d4d1e4263499bec80672ea0156c357c1ee493ec2b1c70f0acce89fc37c4a6abe"
   }
  }
 },
 "nbformat": 4,
 "nbformat_minor": 5
}
