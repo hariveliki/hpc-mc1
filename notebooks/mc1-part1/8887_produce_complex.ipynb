{
 "cells": [
  {
   "cell_type": "code",
   "execution_count": 1,
   "id": "fd2689d8-00f7-4ab6-9206-01bae3fd4884",
   "metadata": {
    "tags": []
   },
   "outputs": [
    {
     "name": "stdout",
     "output_type": "stream",
     "text": [
      "Requirement already satisfied: kafka-python in /opt/conda/lib/python3.10/site-packages (2.0.2)\n"
     ]
    }
   ],
   "source": [
    "!pip install kafka-python"
   ]
  },
  {
   "cell_type": "code",
   "execution_count": 2,
   "id": "f000dba9-b2e3-4089-bbae-a536a60bf69b",
   "metadata": {
    "tags": []
   },
   "outputs": [],
   "source": [
    "from kafka import KafkaConsumer, KafkaProducer\n",
    "import json\n",
    "import uuid\n",
    "import random\n",
    "import time"
   ]
  },
  {
   "cell_type": "code",
   "execution_count": 3,
   "id": "fa56dabd-8bed-4203-8e44-bdb8e30a2430",
   "metadata": {
    "tags": []
   },
   "outputs": [],
   "source": [
    "def connect_kafka_producer(servers):\n",
    "    _producer = None\n",
    "    try:\n",
    "        _producer = KafkaProducer(bootstrap_servers=servers, api_version=(0, 10))\n",
    "    except Exception as ex:\n",
    "        print('Exception while connecting Kafka')\n",
    "        print(str(ex))\n",
    "    finally:\n",
    "        return _producer"
   ]
  },
  {
   "cell_type": "code",
   "execution_count": 4,
   "id": "a32644c8-a779-4ae7-b020-df59733def20",
   "metadata": {
    "tags": []
   },
   "outputs": [],
   "source": [
    "def publish_message(producer_instance, topic_name, key, value):\n",
    "    try:\n",
    "        key_bytes = bytes(key, encoding='utf-8')\n",
    "        value_bytes = bytes(value, encoding='utf-8')\n",
    "        producer_instance.send(topic_name, key=key_bytes, value=value_bytes)\n",
    "        producer_instance.flush()\n",
    "        print('Message published successfully.')\n",
    "    except Exception as ex:\n",
    "        print('Exception in publishing message')\n",
    "        print(str(ex))"
   ]
  },
  {
   "cell_type": "code",
   "execution_count": 5,
   "id": "8547c4fc-6db6-4316-a387-35faaae12464",
   "metadata": {
    "tags": []
   },
   "outputs": [],
   "source": [
    "def produce_xy(producer, topic_name):\n",
    "    with open(\"data.json\") as file:\n",
    "        data = json.load(file)\n",
    "    n = 0\n",
    "    while data:\n",
    "        product = data.pop()\n",
    "        message = json.dumps({\"product\": product})\n",
    "        print(\"Published items: {}\".format(n))\n",
    "        publish_message(producer, topic_name, str(uuid.uuid4()), message)\n",
    "        time.sleep(1)\n",
    "        n += 1"
   ]
  },
  {
   "cell_type": "code",
   "execution_count": 6,
   "id": "0770d40c-0f8b-42d0-afa8-85442c3085d8",
   "metadata": {
    "tags": []
   },
   "outputs": [],
   "source": [
    "server1 = 'broker1:9093'\n",
    "topic1 = \"products\"\n",
    "\n",
    "producer = connect_kafka_producer(server1)"
   ]
  },
  {
   "cell_type": "code",
   "execution_count": 7,
   "id": "00fc53e6-cfb0-4dac-ae06-aed908d33b78",
   "metadata": {
    "tags": []
   },
   "outputs": [
    {
     "name": "stdout",
     "output_type": "stream",
     "text": [
      "Published items: 0\n",
      "Message published successfully.\n",
      "Published items: 1\n",
      "Message published successfully.\n",
      "Published items: 2\n",
      "Message published successfully.\n",
      "Published items: 3\n",
      "Message published successfully.\n",
      "Published items: 4\n",
      "Message published successfully.\n",
      "Published items: 5\n",
      "Message published successfully.\n",
      "Published items: 6\n",
      "Message published successfully.\n",
      "Published items: 7\n",
      "Message published successfully.\n",
      "Published items: 8\n",
      "Message published successfully.\n",
      "Published items: 9\n",
      "Message published successfully.\n",
      "Published items: 10\n",
      "Message published successfully.\n",
      "Published items: 11\n",
      "Message published successfully.\n",
      "Published items: 12\n",
      "Message published successfully.\n",
      "Published items: 13\n",
      "Message published successfully.\n",
      "Published items: 14\n",
      "Message published successfully.\n",
      "Published items: 15\n",
      "Message published successfully.\n",
      "Published items: 16\n",
      "Message published successfully.\n",
      "Published items: 17\n",
      "Message published successfully.\n",
      "Published items: 18\n",
      "Message published successfully.\n",
      "Published items: 19\n",
      "Message published successfully.\n",
      "Published items: 20\n",
      "Message published successfully.\n",
      "Published items: 21\n",
      "Message published successfully.\n",
      "Published items: 22\n",
      "Message published successfully.\n",
      "Published items: 23\n",
      "Message published successfully.\n",
      "Published items: 24\n",
      "Message published successfully.\n",
      "Published items: 25\n",
      "Message published successfully.\n",
      "Published items: 26\n",
      "Message published successfully.\n",
      "Published items: 27\n",
      "Message published successfully.\n",
      "Published items: 28\n",
      "Message published successfully.\n",
      "Published items: 29\n",
      "Message published successfully.\n",
      "Published items: 30\n",
      "Message published successfully.\n",
      "Published items: 31\n",
      "Message published successfully.\n",
      "Published items: 32\n",
      "Message published successfully.\n",
      "Published items: 33\n",
      "Message published successfully.\n",
      "Published items: 34\n",
      "Message published successfully.\n",
      "Published items: 35\n",
      "Message published successfully.\n",
      "Published items: 36\n",
      "Message published successfully.\n",
      "Published items: 37\n",
      "Message published successfully.\n",
      "Published items: 38\n",
      "Message published successfully.\n",
      "Published items: 39\n",
      "Message published successfully.\n",
      "Published items: 40\n",
      "Message published successfully.\n"
     ]
    },
    {
     "ename": "KeyboardInterrupt",
     "evalue": "",
     "output_type": "error",
     "traceback": [
      "\u001b[0;31m---------------------------------------------------------------------------\u001b[0m",
      "\u001b[0;31mKeyboardInterrupt\u001b[0m                         Traceback (most recent call last)",
      "Cell \u001b[0;32mIn[7], line 1\u001b[0m\n\u001b[0;32m----> 1\u001b[0m \u001b[43mproduce_xy\u001b[49m\u001b[43m(\u001b[49m\u001b[43mproducer\u001b[49m\u001b[43m,\u001b[49m\u001b[43m \u001b[49m\u001b[43mtopic1\u001b[49m\u001b[43m)\u001b[49m\n",
      "Cell \u001b[0;32mIn[5], line 10\u001b[0m, in \u001b[0;36mproduce_xy\u001b[0;34m(producer, topic_name)\u001b[0m\n\u001b[1;32m      8\u001b[0m \u001b[38;5;28mprint\u001b[39m(\u001b[38;5;124m\"\u001b[39m\u001b[38;5;124mPublished items: \u001b[39m\u001b[38;5;132;01m{}\u001b[39;00m\u001b[38;5;124m\"\u001b[39m\u001b[38;5;241m.\u001b[39mformat(n))\n\u001b[1;32m      9\u001b[0m publish_message(producer, topic_name, \u001b[38;5;28mstr\u001b[39m(uuid\u001b[38;5;241m.\u001b[39muuid4()), message)\n\u001b[0;32m---> 10\u001b[0m \u001b[43mtime\u001b[49m\u001b[38;5;241;43m.\u001b[39;49m\u001b[43msleep\u001b[49m\u001b[43m(\u001b[49m\u001b[38;5;241;43m1\u001b[39;49m\u001b[43m)\u001b[49m\n\u001b[1;32m     11\u001b[0m n \u001b[38;5;241m+\u001b[39m\u001b[38;5;241m=\u001b[39m \u001b[38;5;241m1\u001b[39m\n",
      "\u001b[0;31mKeyboardInterrupt\u001b[0m: "
     ]
    }
   ],
   "source": [
    "produce_xy(producer, topic1)"
   ]
  },
  {
   "cell_type": "code",
   "execution_count": null,
   "id": "bca6d542-495f-4998-8d74-6b81fcc91602",
   "metadata": {},
   "outputs": [],
   "source": []
  }
 ],
 "metadata": {
  "kernelspec": {
   "display_name": "Python 3 (ipykernel)",
   "language": "python",
   "name": "python3"
  },
  "language_info": {
   "codemirror_mode": {
    "name": "ipython",
    "version": 3
   },
   "file_extension": ".py",
   "mimetype": "text/x-python",
   "name": "python",
   "nbconvert_exporter": "python",
   "pygments_lexer": "ipython3",
   "version": "3.10.9"
  },
  "vscode": {
   "interpreter": {
    "hash": "076267b0e62a83e3a53940141c33d77ced3951e409a8ef4f707c367f15d2cf63"
   }
  }
 },
 "nbformat": 4,
 "nbformat_minor": 5
}
