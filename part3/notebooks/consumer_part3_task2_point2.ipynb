{
 "cells": [
  {
   "cell_type": "markdown",
   "id": "135f5fba",
   "metadata": {},
   "source": [
    "## Data generators/processors: determine which call of your processor takes the most time. Which 3 methods are called the most or needed the most time and how much time?"
   ]
  },
  {
   "cell_type": "code",
   "execution_count": 1,
   "id": "fd2689d8-00f7-4ab6-9206-01bae3fd4884",
   "metadata": {
    "tags": [],
    "vscode": {
     "languageId": "python"
    }
   },
   "outputs": [
    {
     "name": "stdout",
     "output_type": "stream",
     "text": [
      "Requirement already satisfied: kafka-python in /opt/conda/lib/python3.10/site-packages (2.0.2)\n",
      "Requirement already satisfied: snakeviz in /opt/conda/lib/python3.10/site-packages (2.1.1)\n",
      "Requirement already satisfied: tornado>=2.0 in /opt/conda/lib/python3.10/site-packages (from snakeviz) (6.2)\n"
     ]
    }
   ],
   "source": [
    "!pip install kafka-python\n",
    "!pip install snakeviz"
   ]
  },
  {
   "cell_type": "code",
   "execution_count": 2,
   "id": "f000dba9-b2e3-4089-bbae-a536a60bf69b",
   "metadata": {
    "tags": [],
    "vscode": {
     "languageId": "python"
    }
   },
   "outputs": [],
   "source": [
    "from kafka import KafkaConsumer, KafkaProducer\n",
    "import json\n",
    "import uuid\n",
    "import random\n",
    "import time\n",
    "import cProfile\n",
    "import os\n",
    "import io\n",
    "import pstats\n",
    "from pstats import SortKey"
   ]
  },
  {
   "cell_type": "code",
   "execution_count": 3,
   "id": "a32644c8-a779-4ae7-b020-df59733def20",
   "metadata": {
    "tags": [],
    "vscode": {
     "languageId": "python"
    }
   },
   "outputs": [],
   "source": [
    "servers= ['broker1:9093', 'broker2:9094', 'broker3:9095']\n",
    "topic = \"products\"\n",
    "\n",
    "consumer = KafkaConsumer(\n",
    "    topic, \n",
    "    auto_offset_reset='earliest',\n",
    "    bootstrap_servers=servers, \n",
    "    api_version=(0, 10), \n",
    "    value_deserializer = json.loads,\n",
    "    consumer_timeout_ms=1000\n",
    ")"
   ]
  },
  {
   "cell_type": "code",
   "execution_count": 4,
   "id": "c4f04623",
   "metadata": {
    "vscode": {
     "languageId": "python"
    }
   },
   "outputs": [
    {
     "name": "stdout",
     "output_type": "stream",
     "text": [
      "n: 0\n",
      "Start consuming message: 1\n",
      "n: 1\n",
      "Start consuming message: 2\n",
      "n: 2\n",
      "Start consuming message: 3\n",
      "n: 3\n",
      "Start consuming message: 4\n",
      "n: 4\n",
      "Start consuming message: 5\n",
      "n: 5\n",
      "Start consuming message: 6\n",
      "n: 6\n",
      "Start consuming message: 7\n",
      "n: 7\n",
      "Start consuming message: 8\n",
      "n: 8\n",
      "Start consuming message: 9\n",
      "n: 9\n",
      "Start consuming message: 10\n",
      "n: 10\n",
      "Start consuming message: 11\n",
      "n: 1\n",
      "Start consuming message: 12\n",
      "n: 2\n",
      "Start consuming message: 13\n",
      "n: 3\n",
      "Start consuming message: 14\n",
      "n: 4\n",
      "Start consuming message: 15\n",
      "n: 5\n",
      "Start consuming message: 16\n",
      "n: 6\n",
      "Start consuming message: 17\n",
      "n: 7\n",
      "Start consuming message: 18\n",
      "n: 8\n",
      "Start consuming message: 19\n",
      "n: 9\n",
      "Start consuming message: 20\n",
      "n: 10\n",
      "Start consuming message: 21\n",
      "n: 1\n",
      "Start consuming message: 22\n",
      "n: 2\n",
      "Start consuming message: 23\n",
      "n: 3\n",
      "Start consuming message: 24\n",
      "n: 4\n",
      "Start consuming message: 25\n",
      "n: 5\n",
      "Start consuming message: 26\n",
      "n: 6\n",
      "Start consuming message: 27\n",
      "n: 7\n",
      "Start consuming message: 28\n",
      "n: 8\n",
      "Start consuming message: 29\n",
      "n: 9\n",
      "Start consuming message: 30\n"
     ]
    }
   ],
   "source": [
    "def write_json_to_file(filepath, content):\n",
    "    with open(filepath, \"w\") as file:\n",
    "        json.dump(content, file)\n",
    "\n",
    "\n",
    "def fibonacci(n):\n",
    "    \"\"\"Computes the nth-fibonacci number. It is used to create artificially longer runtime for the processor\"\"\"\n",
    "    if n <= 1:\n",
    "        return 1\n",
    "    return fibonacci(n-1) + fibonacci(n-2)\n",
    "\n",
    "\n",
    "def process_data(consumer):\n",
    "    \"\"\"Reads the messages, computes the nth-fibonacci number and manipulates the data structure\"\"\"\n",
    "    output = []\n",
    "    n = 0\n",
    "    try:\n",
    "        for n_message, msg in enumerate(consumer, 1):\n",
    "            # if n_message >= 20:\n",
    "            #     break\n",
    "            print(\"n: {}\".format(n))\n",
    "            if n >= 10:\n",
    "                n = 0\n",
    "            print(\"Start consuming message: {}\".format(n_message))\n",
    "            product = msg.value.get(\"product\")\n",
    "            keys = list(product.keys())\n",
    "            for key in keys:\n",
    "                product[key] = fibonacci(n_message)\n",
    "            n += 1\n",
    "            output.append(product)\n",
    "    except:\n",
    "        print(\"Interrupt\")\n",
    "        return output\n",
    "    return output\n",
    "\n",
    "pr = cProfile.Profile()\n",
    "pr.enable()\n",
    "\n",
    "changed_data = process_data(consumer)\n",
    "\n",
    "write_json_to_file(\"changed_data.json\", changed_data)\n",
    "\n",
    "pr.disable()\n",
    "s = io.StringIO()\n",
    "ps = pstats.Stats(pr, stream=s).sort_stats('tottime')\n",
    "ps.print_stats()\n",
    "\n",
    "with open('stats.txt', 'w+') as f:\n",
    "    f.write(s.getvalue())"
   ]
  },
  {
   "cell_type": "code",
   "execution_count": 5,
   "id": "32fa3ed5",
   "metadata": {
    "vscode": {
     "languageId": "python"
    }
   },
   "outputs": [
    {
     "name": "stderr",
     "output_type": "stream",
     "text": [
      "/tmp/ipykernel_290/2154001296.py:3: ParserWarning: Falling back to the 'python' engine because the 'c' engine does not support regex separators (separators > 1 char and different from '\\s+' are interpreted as regex); you can avoid this warning by specifying engine='python'.\n",
      "  df = pd.read_csv('stats.txt', sep='\\s+\\s+', skiprows=5, header=None, error_bad_lines=False)\n",
      "/tmp/ipykernel_290/2154001296.py:3: FutureWarning: The error_bad_lines argument has been deprecated and will be removed in a future version. Use on_bad_lines in the future.\n",
      "\n",
      "\n",
      "  df = pd.read_csv('stats.txt', sep='\\s+\\s+', skiprows=5, header=None, error_bad_lines=False)\n"
     ]
    },
    {
     "data": {
      "text/html": [
       "<div>\n",
       "<style scoped>\n",
       "    .dataframe tbody tr th:only-of-type {\n",
       "        vertical-align: middle;\n",
       "    }\n",
       "\n",
       "    .dataframe tbody tr th {\n",
       "        vertical-align: top;\n",
       "    }\n",
       "\n",
       "    .dataframe thead th {\n",
       "        text-align: right;\n",
       "    }\n",
       "</style>\n",
       "<table border=\"1\" class=\"dataframe\">\n",
       "  <thead>\n",
       "    <tr style=\"text-align: right;\">\n",
       "      <th></th>\n",
       "      <th>ncalls</th>\n",
       "      <th>tottime</th>\n",
       "      <th>percall</th>\n",
       "      <th>cumtime</th>\n",
       "      <th>percall filename:lineno(function)</th>\n",
       "    </tr>\n",
       "  </thead>\n",
       "  <tbody>\n",
       "    <tr>\n",
       "      <th>0</th>\n",
       "      <td>77540342/330</td>\n",
       "      <td>17.617</td>\n",
       "      <td>0.000</td>\n",
       "      <td>17.617</td>\n",
       "      <td>0.053 /tmp/ipykernel_290/630567185.py:6(fibona...</td>\n",
       "    </tr>\n",
       "    <tr>\n",
       "      <th>1</th>\n",
       "      <td>18</td>\n",
       "      <td>1.058</td>\n",
       "      <td>0.059</td>\n",
       "      <td>1.058</td>\n",
       "      <td>0.059 {method 'poll' of 'select.epoll' objects}</td>\n",
       "    </tr>\n",
       "    <tr>\n",
       "      <th>2</th>\n",
       "      <td>1</td>\n",
       "      <td>0.101</td>\n",
       "      <td>0.101</td>\n",
       "      <td>0.101</td>\n",
       "      <td>0.101 {built-in method time.sleep}</td>\n",
       "    </tr>\n",
       "    <tr>\n",
       "      <th>3</th>\n",
       "      <td>1</td>\n",
       "      <td>0.022</td>\n",
       "      <td>0.022</td>\n",
       "      <td>0.022</td>\n",
       "      <td>0.022 {built-in method io.open}</td>\n",
       "    </tr>\n",
       "    <tr>\n",
       "      <th>4</th>\n",
       "      <td>30</td>\n",
       "      <td>0.003</td>\n",
       "      <td>0.000</td>\n",
       "      <td>0.003</td>\n",
       "      <td>0.000 /opt/conda/lib/python3.10/json/decoder.p...</td>\n",
       "    </tr>\n",
       "  </tbody>\n",
       "</table>\n",
       "</div>"
      ],
      "text/plain": [
       "         ncalls  tottime  percall  cumtime  \\\n",
       "0  77540342/330   17.617    0.000   17.617   \n",
       "1            18    1.058    0.059    1.058   \n",
       "2             1    0.101    0.101    0.101   \n",
       "3             1    0.022    0.022    0.022   \n",
       "4            30    0.003    0.000    0.003   \n",
       "\n",
       "                   percall filename:lineno(function)  \n",
       "0  0.053 /tmp/ipykernel_290/630567185.py:6(fibona...  \n",
       "1    0.059 {method 'poll' of 'select.epoll' objects}  \n",
       "2                 0.101 {built-in method time.sleep}  \n",
       "3                    0.022 {built-in method io.open}  \n",
       "4  0.000 /opt/conda/lib/python3.10/json/decoder.p...  "
      ]
     },
     "execution_count": 5,
     "metadata": {},
     "output_type": "execute_result"
    }
   ],
   "source": [
    "# read stats.txt with pandas\n",
    "import pandas as pd\n",
    "df = pd.read_csv('stats.txt', sep='\\s+\\s+', skiprows=5, header=None, error_bad_lines=False)\n",
    "df.columns = ['ncalls', 'tottime', 'percall', 'cumtime', 'percall filename:lineno(function)']\n",
    "df.head()"
   ]
  },
  {
   "cell_type": "code",
   "execution_count": 6,
   "id": "eea63fd0",
   "metadata": {
    "vscode": {
     "languageId": "python"
    }
   },
   "outputs": [],
   "source": [
    "df['percall filename:lineno(function)'].str.split('\\s+', expand=True).iloc[:, 1:].values\n",
    "\n",
    "df['function'] = [''.join(str(x)) for x in df['percall filename:lineno(function)'].str.split('\\s+', expand=True).iloc[:, 1:].values]"
   ]
  },
  {
   "cell_type": "code",
   "execution_count": 7,
   "id": "2701598a",
   "metadata": {
    "vscode": {
     "languageId": "python"
    }
   },
   "outputs": [
    {
     "name": "stderr",
     "output_type": "stream",
     "text": [
      "/tmp/ipykernel_290/2192852116.py:2: FutureWarning: The default value of regex will change from True to False in a future version.\n",
      "  df['function'] = df['function'].str.replace('[^\\w\\s/]', '')\n"
     ]
    },
    {
     "data": {
      "text/html": [
       "<div>\n",
       "<style scoped>\n",
       "    .dataframe tbody tr th:only-of-type {\n",
       "        vertical-align: middle;\n",
       "    }\n",
       "\n",
       "    .dataframe tbody tr th {\n",
       "        vertical-align: top;\n",
       "    }\n",
       "\n",
       "    .dataframe thead th {\n",
       "        text-align: right;\n",
       "    }\n",
       "</style>\n",
       "<table border=\"1\" class=\"dataframe\">\n",
       "  <thead>\n",
       "    <tr style=\"text-align: right;\">\n",
       "      <th></th>\n",
       "      <th>ncalls</th>\n",
       "      <th>tottime</th>\n",
       "      <th>percall</th>\n",
       "      <th>cumtime</th>\n",
       "      <th>percall filename:lineno(function)</th>\n",
       "      <th>function</th>\n",
       "    </tr>\n",
       "  </thead>\n",
       "  <tbody>\n",
       "    <tr>\n",
       "      <th>0</th>\n",
       "      <td>77540342/330</td>\n",
       "      <td>17.617</td>\n",
       "      <td>0.000</td>\n",
       "      <td>17.617</td>\n",
       "      <td>0.053 /tmp/ipykernel_290/630567185.py:6(fibona...</td>\n",
       "      <td>/tmp/ipykernel_290/630567185py6fibonacci     \\n</td>\n",
       "    </tr>\n",
       "    <tr>\n",
       "      <th>1</th>\n",
       "      <td>18</td>\n",
       "      <td>1.058</td>\n",
       "      <td>0.059</td>\n",
       "      <td>1.058</td>\n",
       "      <td>0.059 {method 'poll' of 'select.epoll' objects}</td>\n",
       "      <td>method poll of selectepoll objects</td>\n",
       "    </tr>\n",
       "    <tr>\n",
       "      <th>2</th>\n",
       "      <td>1</td>\n",
       "      <td>0.101</td>\n",
       "      <td>0.101</td>\n",
       "      <td>0.101</td>\n",
       "      <td>0.101 {built-in method time.sleep}</td>\n",
       "      <td>builtin method timesleep</td>\n",
       "    </tr>\n",
       "    <tr>\n",
       "      <th>3</th>\n",
       "      <td>1</td>\n",
       "      <td>0.022</td>\n",
       "      <td>0.022</td>\n",
       "      <td>0.022</td>\n",
       "      <td>0.022 {built-in method io.open}</td>\n",
       "      <td>builtin method ioopen</td>\n",
       "    </tr>\n",
       "    <tr>\n",
       "      <th>4</th>\n",
       "      <td>30</td>\n",
       "      <td>0.003</td>\n",
       "      <td>0.000</td>\n",
       "      <td>0.003</td>\n",
       "      <td>0.000 /opt/conda/lib/python3.10/json/decoder.p...</td>\n",
       "      <td>/opt/conda/lib/python310/json/decoderpy343raw_...</td>\n",
       "    </tr>\n",
       "  </tbody>\n",
       "</table>\n",
       "</div>"
      ],
      "text/plain": [
       "         ncalls  tottime  percall  cumtime  \\\n",
       "0  77540342/330   17.617    0.000   17.617   \n",
       "1            18    1.058    0.059    1.058   \n",
       "2             1    0.101    0.101    0.101   \n",
       "3             1    0.022    0.022    0.022   \n",
       "4            30    0.003    0.000    0.003   \n",
       "\n",
       "                   percall filename:lineno(function)  \\\n",
       "0  0.053 /tmp/ipykernel_290/630567185.py:6(fibona...   \n",
       "1    0.059 {method 'poll' of 'select.epoll' objects}   \n",
       "2                 0.101 {built-in method time.sleep}   \n",
       "3                    0.022 {built-in method io.open}   \n",
       "4  0.000 /opt/conda/lib/python3.10/json/decoder.p...   \n",
       "\n",
       "                                            function  \n",
       "0  /tmp/ipykernel_290/630567185py6fibonacci     \\n    \n",
       "1              method poll of selectepoll objects     \n",
       "2                      builtin method timesleep       \n",
       "3                         builtin method ioopen       \n",
       "4  /opt/conda/lib/python310/json/decoderpy343raw_...  "
      ]
     },
     "execution_count": 7,
     "metadata": {},
     "output_type": "execute_result"
    }
   ],
   "source": [
    "# remove all special chars from column function except char /\n",
    "df['function'] = df['function'].str.replace('[^\\w\\s/]', '')\n",
    "df.head()\n",
    "# remove None string from function column\n",
    "df['function'] = df['function'].str.replace('None','')\n",
    "df.head()"
   ]
  },
  {
   "cell_type": "code",
   "execution_count": 8,
   "id": "9caa37f4",
   "metadata": {
    "vscode": {
     "languageId": "python"
    }
   },
   "outputs": [],
   "source": [
    "df['percall'] = df['percall filename:lineno(function)'].str.split('\\s+', expand=True)[0]"
   ]
  },
  {
   "cell_type": "code",
   "execution_count": 9,
   "id": "10bd897a",
   "metadata": {
    "vscode": {
     "languageId": "python"
    }
   },
   "outputs": [
    {
     "data": {
      "text/html": [
       "<div>\n",
       "<style scoped>\n",
       "    .dataframe tbody tr th:only-of-type {\n",
       "        vertical-align: middle;\n",
       "    }\n",
       "\n",
       "    .dataframe tbody tr th {\n",
       "        vertical-align: top;\n",
       "    }\n",
       "\n",
       "    .dataframe thead th {\n",
       "        text-align: right;\n",
       "    }\n",
       "</style>\n",
       "<table border=\"1\" class=\"dataframe\">\n",
       "  <thead>\n",
       "    <tr style=\"text-align: right;\">\n",
       "      <th></th>\n",
       "      <th>ncalls</th>\n",
       "      <th>tottime</th>\n",
       "      <th>percall</th>\n",
       "      <th>cumtime</th>\n",
       "      <th>function</th>\n",
       "    </tr>\n",
       "  </thead>\n",
       "  <tbody>\n",
       "    <tr>\n",
       "      <th>0</th>\n",
       "      <td>77540342/330</td>\n",
       "      <td>17.617</td>\n",
       "      <td>0.053</td>\n",
       "      <td>17.617</td>\n",
       "      <td>/tmp/ipykernel_290/630567185py6fibonacci     \\n</td>\n",
       "    </tr>\n",
       "    <tr>\n",
       "      <th>1</th>\n",
       "      <td>18</td>\n",
       "      <td>1.058</td>\n",
       "      <td>0.059</td>\n",
       "      <td>1.058</td>\n",
       "      <td>method poll of selectepoll objects</td>\n",
       "    </tr>\n",
       "    <tr>\n",
       "      <th>2</th>\n",
       "      <td>1</td>\n",
       "      <td>0.101</td>\n",
       "      <td>0.101</td>\n",
       "      <td>0.101</td>\n",
       "      <td>builtin method timesleep</td>\n",
       "    </tr>\n",
       "    <tr>\n",
       "      <th>3</th>\n",
       "      <td>1</td>\n",
       "      <td>0.022</td>\n",
       "      <td>0.022</td>\n",
       "      <td>0.022</td>\n",
       "      <td>builtin method ioopen</td>\n",
       "    </tr>\n",
       "    <tr>\n",
       "      <th>4</th>\n",
       "      <td>30</td>\n",
       "      <td>0.003</td>\n",
       "      <td>0.000</td>\n",
       "      <td>0.003</td>\n",
       "      <td>/opt/conda/lib/python310/json/decoderpy343raw_...</td>\n",
       "    </tr>\n",
       "  </tbody>\n",
       "</table>\n",
       "</div>"
      ],
      "text/plain": [
       "         ncalls  tottime percall  cumtime  \\\n",
       "0  77540342/330   17.617   0.053   17.617   \n",
       "1            18    1.058   0.059    1.058   \n",
       "2             1    0.101   0.101    0.101   \n",
       "3             1    0.022   0.022    0.022   \n",
       "4            30    0.003   0.000    0.003   \n",
       "\n",
       "                                            function  \n",
       "0  /tmp/ipykernel_290/630567185py6fibonacci     \\n    \n",
       "1              method poll of selectepoll objects     \n",
       "2                      builtin method timesleep       \n",
       "3                         builtin method ioopen       \n",
       "4  /opt/conda/lib/python310/json/decoderpy343raw_...  "
      ]
     },
     "execution_count": 9,
     "metadata": {},
     "output_type": "execute_result"
    }
   ],
   "source": [
    "df.head()\n",
    "#drop percall filename:lineno(function)\n",
    "df.drop(columns=['percall filename:lineno(function)'], inplace=True)\n",
    "df.head()"
   ]
  },
  {
   "cell_type": "code",
   "execution_count": 10,
   "id": "0770d40c-0f8b-42d0-afa8-85442c3085d8",
   "metadata": {
    "tags": [],
    "vscode": {
     "languageId": "python"
    }
   },
   "outputs": [
    {
     "data": {
      "text/plain": [
       "<Axes: xlabel='function'>"
      ]
     },
     "execution_count": 10,
     "metadata": {},
     "output_type": "execute_result"
    },
    {
     "data": {
      "image/png": "[encoded data removed]",
      "text/plain": [
       "<Figure size 640x480 with 1 Axes>"
      ]
     },
     "metadata": {},
     "output_type": "display_data"
    }
   ],
   "source": [
    "#plot only 5 highest tottime\n",
    "df.sort_values(by=['tottime'], ascending=False).head(5).plot.bar(x='function', y='tottime')"
   ]
  },
  {
   "cell_type": "code",
   "execution_count": null,
   "id": "da807aab-6c74-4673-9132-2fb4fad620d7",
   "metadata": {
    "vscode": {
     "languageId": "python"
    }
   },
   "outputs": [],
   "source": []
  }
 ],
 "metadata": {
  "kernelspec": {
   "display_name": "Python 3 (ipykernel)",
   "language": "python",
   "name": "python3"
  },
  "language_info": {
   "codemirror_mode": {
    "name": "ipython",
    "version": 3
   },
   "file_extension": ".py",
   "mimetype": "text/x-python",
   "name": "python",
   "nbconvert_exporter": "python",
   "pygments_lexer": "ipython3",
   "version": "3.10.9"
  },
  "vscode": {
   "interpreter": {
    "hash": "076267b0e62a83e3a53940141c33d77ced3951e409a8ef4f707c367f15d2cf63"
   }
  }
 },
 "nbformat": 4,
 "nbformat_minor": 5
}
