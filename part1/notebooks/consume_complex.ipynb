{
 "cells": [
  {
   "cell_type": "code",
   "execution_count": 1,
   "id": "fd2689d8-00f7-4ab6-9206-01bae3fd4884",
   "metadata": {
    "tags": []
   },
   "outputs": [
    {
     "name": "stdout",
     "output_type": "stream",
     "text": [
      "Requirement already satisfied: kafka-python in /opt/conda/lib/python3.10/site-packages (2.0.2)\n"
     ]
    }
   ],
   "source": [
    "!pip install kafka-python"
   ]
  },
  {
   "cell_type": "code",
   "execution_count": 2,
   "id": "f000dba9-b2e3-4089-bbae-a536a60bf69b",
   "metadata": {
    "tags": []
   },
   "outputs": [],
   "source": [
    "from kafka import KafkaConsumer\n",
    "import json\n",
    "import uuid\n",
    "import random\n",
    "import time\n",
    "import cProfile\n",
    "import csv\n",
    "import os"
   ]
  },
  {
   "cell_type": "code",
   "execution_count": 3,
   "id": "0770d40c-0f8b-42d0-afa8-85442c3085d8",
   "metadata": {
    "tags": []
   },
   "outputs": [],
   "source": [
    "servers= ['broker1:9093', 'broker2:9094', 'broker3:9095']\n",
    "topic = \"products\"\n",
    "\n",
    "consumer = KafkaConsumer(\n",
    "    topic, \n",
    "    auto_offset_reset='earliest',\n",
    "    bootstrap_servers=servers, \n",
    "    api_version=(0, 10), \n",
    "    value_deserializer = json.loads,\n",
    "    consumer_timeout_ms=1000\n",
    ")"
   ]
  },
  {
   "cell_type": "code",
   "execution_count": 4,
   "id": "1858fc36-e5ac-4c90-87ed-7f759c27a682",
   "metadata": {},
   "outputs": [],
   "source": [
    "def fibonacci(n):\n",
    "    \"\"\"Computes the nth-fibonacci number. It is used to create artificially longer runtime for the processor\"\"\"\n",
    "    if n <= 1:\n",
    "        return 1\n",
    "    return fibonacci(n-1) + fibonacci(n-2)\n",
    "\n",
    "\n",
    "def process_data(consumer):\n",
    "    \"\"\"Reads the messages, computes the nth-fibonacci number and manipulates the data structure\"\"\"\n",
    "    output = []\n",
    "    n = 0\n",
    "    try:\n",
    "        for n_message, msg in enumerate(consumer, 1):\n",
    "            # if n_message >= 20:\n",
    "            #     break\n",
    "            print(\"n: {}\".format(n))\n",
    "            if n >= 10:\n",
    "                n = 0\n",
    "            print(\"Start consuming message: {}\".format(n_message))\n",
    "            product = msg.value.get(\"product\")\n",
    "            keys = list(product.keys())\n",
    "            for key in keys:\n",
    "                product[key] = fibonacci(n_message)\n",
    "            n += 1\n",
    "            output.append(product)\n",
    "    except:\n",
    "        print(\"Interrupt\")\n",
    "        return output\n",
    "    return output"
   ]
  },
  {
   "cell_type": "code",
   "execution_count": 5,
   "id": "4ec9a698",
   "metadata": {},
   "outputs": [],
   "source": [
    "def write_json_to_file(filepath, content):\n",
    "    with open(filepath, \"w\") as file:\n",
    "        json.dump(content, file)"
   ]
  },
  {
   "cell_type": "code",
   "execution_count": 6,
   "id": "c54ce36e-b47b-4803-8c80-f72e80f50d65",
   "metadata": {
    "tags": []
   },
   "outputs": [
    {
     "name": "stdout",
     "output_type": "stream",
     "text": [
      "n: 0\n",
      "Start consuming message: 1\n",
      "n: 1\n",
      "Start consuming message: 2\n",
      "n: 2\n",
      "Start consuming message: 3\n",
      "n: 3\n",
      "Start consuming message: 4\n",
      "n: 4\n",
      "Start consuming message: 5\n",
      "n: 5\n",
      "Start consuming message: 6\n",
      "n: 6\n",
      "Start consuming message: 7\n",
      "n: 7\n",
      "Start consuming message: 8\n",
      "n: 8\n",
      "Start consuming message: 9\n",
      "n: 9\n",
      "Start consuming message: 10\n",
      "n: 10\n",
      "Start consuming message: 11\n",
      "n: 1\n",
      "Start consuming message: 12\n",
      "n: 2\n",
      "Start consuming message: 13\n",
      "n: 3\n",
      "Start consuming message: 14\n",
      "n: 4\n",
      "Start consuming message: 15\n",
      "n: 5\n",
      "Start consuming message: 16\n",
      "n: 6\n",
      "Start consuming message: 17\n",
      "n: 7\n",
      "Start consuming message: 18\n",
      "n: 8\n",
      "Start consuming message: 19\n",
      "n: 9\n",
      "Start consuming message: 20\n",
      "n: 10\n",
      "Start consuming message: 21\n",
      "n: 1\n",
      "Start consuming message: 22\n",
      "n: 2\n",
      "Start consuming message: 23\n",
      "n: 3\n",
      "Start consuming message: 24\n",
      "n: 4\n",
      "Start consuming message: 25\n",
      "n: 5\n",
      "Start consuming message: 26\n",
      "n: 6\n",
      "Start consuming message: 27\n",
      "n: 7\n",
      "Start consuming message: 28\n",
      "Interrupt\n"
     ]
    }
   ],
   "source": [
    "try:\n",
    "    changed_data = process_data(consumer)\n",
    "except:\n",
    "    print(\"Keyboard Interrupt\")\n",
    "finally:\n",
    "    write_json_to_file(\"changed_data.json\", changed_data)"
   ]
  },
  {
   "cell_type": "code",
   "execution_count": 7,
   "id": "6e9c97f0-20e7-4491-a4df-2c09d17b6cd2",
   "metadata": {
    "tags": []
   },
   "outputs": [],
   "source": [
    "def write_json_to_file(filepath, content):\n",
    "    with open(filepath, \"w\") as file:\n",
    "        json.dump(content, file)"
   ]
  },
  {
   "cell_type": "code",
   "execution_count": 8,
   "id": "d2d1dcec-2e84-4bb9-a119-38cdb52b1542",
   "metadata": {
    "tags": []
   },
   "outputs": [],
   "source": [
    "write_json_to_file(\"changed_data.json\", changed_data)"
   ]
  },
  {
   "cell_type": "code",
   "execution_count": null,
   "id": "9053e7c0",
   "metadata": {},
   "outputs": [],
   "source": []
  }
 ],
 "metadata": {
  "kernelspec": {
   "display_name": "Python 3 (ipykernel)",
   "language": "python",
   "name": "python3"
  },
  "language_info": {
   "codemirror_mode": {
    "name": "ipython",
    "version": 3
   },
   "file_extension": ".py",
   "mimetype": "text/x-python",
   "name": "python",
   "nbconvert_exporter": "python",
   "pygments_lexer": "ipython3",
   "version": "3.10.9"
  },
  "vscode": {
   "interpreter": {
    "hash": "076267b0e62a83e3a53940141c33d77ced3951e409a8ef4f707c367f15d2cf63"
   }
  }
 },
 "nbformat": 4,
 "nbformat_minor": 5
}
